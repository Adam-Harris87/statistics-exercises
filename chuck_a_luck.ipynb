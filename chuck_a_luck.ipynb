{
 "cells": [
  {
   "cell_type": "markdown",
   "id": "8286cb16",
   "metadata": {},
   "source": [
    "Chuck-a-Luck is a game of chance often associated with charity fundraisers or street gambling rather than casinos.\n",
    "\n",
    "To play, the House says, Pay 1, pick a number and roll 3 dice. If any of those dice come up, you'll win 1, 2, or 3 dollars\".\n",
    "\n",
    "- \"It's even odds\", they say, \"because the probability of rolling your number is 1/6 and you get to roll 3 dice! 1/6 + 1/6 + 1/6 is 3/6 which is 1/2\".\n",
    "- You know better than this, so it's time to make an experiment to approximate the actual risk and payoff...\n",
    "\n",
    "Rules:\n",
    "\n",
    "The player pays $1 to play and picks a number.\n",
    "\n",
    "The House rolls 3 dice at once.\n",
    "\n",
    "Payouts:\n",
    "\n",
    "- \\$3 if all three dice match the chosen number\n",
    "- \\$2 if exactly two dice match the chosen number\n",
    "- \\$1 is exactly one of the dice matches the chosen number\n",
    "- If none of the dice match the player's chosen number, then the House keeps the $1."
   ]
  },
  {
   "cell_type": "markdown",
   "id": "595df535",
   "metadata": {},
   "source": [
    "Exercises:\n",
    "\n",
    "What are your chances of getting an outcome payout of 2? (where we earned 3 on the 1 ante)\n",
    "\n",
    "What are your chances of getting an payout of 1?\n",
    "\n",
    "What are your chances of getting a payout of 0 where you ante 1 and win 1?\n",
    "\n",
    "What are your chances of getting a payout of -1 where you ante up, but don't win anything?\n",
    "\n",
    "What is the average cost/gain per game? (think of averaging the total payout calculation across all simulations)\n",
    "\n",
    "Chart out a histogram of all the outcomes of those 1,000,000 games\n",
    "\n",
    "Is this really a fair game of 1/6 + 1/6 + 1/6 odds?\n",
    "\n",
    "If you play 1,000,000 games in a row, what are your winnings/losses?"
   ]
  },
  {
   "cell_type": "code",
   "execution_count": 10,
   "id": "2156c656",
   "metadata": {},
   "outputs": [
    {
     "name": "stdout",
     "output_type": "stream",
     "text": [
      "theoretical chance of losing is: 0.5787037037037038\n",
      "theoretical chance of winning 1 roll is: 0.34722222222222227\n",
      "theoretical chance of winning 2 rolls is: 0.06944444444444445\n",
      "theoretical chance of winning 3 rolls is: 0.004629629629629629\n",
      "total probability is: 1.0\n"
     ]
    }
   ],
   "source": [
    "chance_lose = (5/6) * (5/6) * (5/6)\n",
    "chance_1 = ((1/6) * (5/6) * (5/6)) * 3\n",
    "chance_2 = ((1/6) * (1/6) * (5/6)) * 3\n",
    "chance_3 = (1/6) * (1/6) * (1/6)\n",
    "print(f'theoretical chance of losing is: {chance_lose}')\n",
    "print(f'theoretical chance of winning 1 roll is: {chance_1}')\n",
    "print(f'theoretical chance of winning 2 rolls is: {chance_2}')\n",
    "print(f'theoretical chance of winning 3 rolls is: {chance_3}')\n",
    "print(f'total probability is: {chance_lose + chance_1 + chance_2 + chance_3}')"
   ]
  },
  {
   "cell_type": "code",
   "execution_count": 30,
   "id": "78e4a21c",
   "metadata": {},
   "outputs": [],
   "source": [
    "import numpy as np\n",
    "import pandas as pd\n",
    "import matplotlib.pyplot as plt"
   ]
  },
  {
   "cell_type": "code",
   "execution_count": 14,
   "id": "03d9fad7",
   "metadata": {},
   "outputs": [
    {
     "name": "stdout",
     "output_type": "stream",
     "text": [
      "the theoretical expected value of the game is: $-0.5\n"
     ]
    }
   ],
   "source": [
    "expected_value = round((chance_lose * -1) + (chance_1 * 0)\n",
    "                       + (chance_2 * 1) + (chance_3 * 2), 2)\n",
    "print(f'the theoretical expected value of the game is: ${expected_value}')"
   ]
  },
  {
   "cell_type": "code",
   "execution_count": 49,
   "id": "c93209fa",
   "metadata": {},
   "outputs": [
    {
     "name": "stdout",
     "output_type": "stream",
     "text": [
      "observed chance of getting $2 payout is: 0.0043\n"
     ]
    }
   ],
   "source": [
    "# What are your chances of getting an outcome \n",
    "# payout of $2? (where we earned 3 on the 1 ante)\n",
    "n_trials = n_rows = 10_000\n",
    "n_rolls = n_cols = 3\n",
    "\n",
    "# 5/6 outcomes are fails = 0, 1/6 outcomes are success = 1\n",
    "rolls = np.random.choice([0,1], size = (n_rows, n_cols), p = [(5/6), (1/6)])\n",
    "win_3_rolls = (pd.DataFrame(rolls).sum(axis=1) == 3).mean()\n",
    "print(f'observed chance of getting $2 payout is: {win_3_rolls}')"
   ]
  },
  {
   "cell_type": "code",
   "execution_count": 50,
   "id": "7d010491",
   "metadata": {},
   "outputs": [
    {
     "name": "stdout",
     "output_type": "stream",
     "text": [
      "observed chance of getting $1 payout is: 0.0666\n"
     ]
    }
   ],
   "source": [
    "#What are your chances of getting an payout of $1 (win 2)?\n",
    "n_trials = n_rows = 10_000\n",
    "n_rolls = n_cols = 3\n",
    "\n",
    "# 5/6 outcomes are fails = 0, 1/6 outcomes are success = 1\n",
    "rolls = np.random.choice([0,1], size = (n_rows, n_cols), p = [(5/6), (1/6)])\n",
    "win_2_rolls = (pd.DataFrame(rolls).sum(axis=1) == 2).mean()\n",
    "print(f'observed chance of getting $1 payout is: {win_2_rolls}')"
   ]
  },
  {
   "cell_type": "code",
   "execution_count": 51,
   "id": "63df9414",
   "metadata": {},
   "outputs": [
    {
     "name": "stdout",
     "output_type": "stream",
     "text": [
      "observed chance of getting $1 payout is: 0.3483\n"
     ]
    }
   ],
   "source": [
    "#What are your chances of getting a payout of 0 where you ante 1 and win 1 (win_1_roll)?\n",
    "n_trials = n_rows = 10_000\n",
    "n_rolls = n_cols = 3\n",
    "\n",
    "# 5/6 outcomes are fails = 0, 1/6 outcomes are success = 1\n",
    "rolls = np.random.choice([0,1], size = (n_rows, n_cols), p = [(5/6), (1/6)])\n",
    "win_1_rolls = (pd.DataFrame(rolls).sum(axis=1) == 1).mean()\n",
    "print(f'observed chance of getting $1 payout is: {win_1_rolls}')"
   ]
  },
  {
   "cell_type": "code",
   "execution_count": 52,
   "id": "1772ee16",
   "metadata": {},
   "outputs": [
    {
     "name": "stdout",
     "output_type": "stream",
     "text": [
      "observed chance of getting $1 payout is: 0.5775\n"
     ]
    }
   ],
   "source": [
    "#What are your chances of getting a payout of -1 \n",
    "# where you ante up, but don't win anything? (lose_rolls)\n",
    "n_trials = n_rows = 10_000\n",
    "n_rolls = n_cols = 3\n",
    "\n",
    "# 5/6 outcomes are fails = 0, 1/6 outcomes are success = 1\n",
    "rolls = np.random.choice([0,1], size = (n_rows, n_cols), p = [(5/6), (1/6)])\n",
    "win_0_rolls = (pd.DataFrame(rolls).sum(axis=1) == 0).mean()\n",
    "print(f'observed chance of getting $1 payout is: {win_0_rolls}')"
   ]
  },
  {
   "cell_type": "code",
   "execution_count": 55,
   "id": "91a14fce",
   "metadata": {},
   "outputs": [
    {
     "name": "stdout",
     "output_type": "stream",
     "text": [
      "observed average payout is: $-0.5027\n"
     ]
    }
   ],
   "source": [
    "#What is the average cost/gain per game? \n",
    "#(think of averaging the total payout calculation across all simulations)\n",
    "n_trials = n_rows = 10_000\n",
    "n_rolls = n_cols = 3\n",
    "\n",
    "# 5/6 outcomes are fails = 0, 1/6 outcomes are success = 1\n",
    "rolls = np.random.choice([0,1], size = (n_rows, n_cols), p = [(5/6), (1/6)])\n",
    "payouts = pd.DataFrame(rolls).apply(lambda row: sum(row) - 1, axis=1)\n",
    "observed_avg_payout = payouts.mean()\n",
    "print(f'observed average payout is: ${observed_avg_payout}')"
   ]
  },
  {
   "cell_type": "code",
   "execution_count": 27,
   "id": "00452ecf",
   "metadata": {},
   "outputs": [
    {
     "name": "stdout",
     "output_type": "stream",
     "text": [
      "after 1_000_000 games you can expect to make: $-500146\n"
     ]
    }
   ],
   "source": [
    "# If you play 1,000,000 games in a row, what are your winnings/losses?\n",
    "n_trials = n_rows = 1_000_000\n",
    "n_rolls = n_cols = 3\n",
    "\n",
    "# 5/6 outcomes are fails = 0, 1/6 outcomes are success = 1\n",
    "rolls = np.random.choice([0,1], size = (n_rows, n_cols), p = [(5/6), (1/6)])\n",
    "payouts = pd.DataFrame(rolls).apply(lambda row: sum(row) - 1, axis=1)\n",
    "total_payout = payout.sum()\n",
    "print(f'after 1_000_000 games you can expect to make: ${total_payout}')"
   ]
  },
  {
   "cell_type": "code",
   "execution_count": 56,
   "id": "8c91d55e",
   "metadata": {},
   "outputs": [
    {
     "data": {
      "image/png": "[encoded data removed]",
      "text/plain": [
       "<Figure size 640x480 with 1 Axes>"
      ]
     },
     "metadata": {},
     "output_type": "display_data"
    }
   ],
   "source": [
    "plt.hist(payouts, bins=[-1,0,1,2,3], align='left', edgecolor='black')\n",
    "plt.xticks([-1,0,1,2])\n",
    "plt.title('Outcomes from 1,000,000 Trials of Chuck-a-Luck')\n",
    "plt.xlabel('Payout (in dollars)')\n",
    "plt.ylabel('Count of Outcomes')\n",
    "plt.show();"
   ]
  },
  {
   "cell_type": "markdown",
   "id": "a0fc1f2b",
   "metadata": {},
   "source": [
    "Is this really a fair game of 1/6 + 1/6 + 1/6 odds? \n",
    "### Definitely not fair"
   ]
  }
 ],
 "metadata": {
  "kernelspec": {
   "display_name": "Python 3 (ipykernel)",
   "language": "python",
   "name": "python3"
  },
  "language_info": {
   "codemirror_mode": {
    "name": "ipython",
    "version": 3
   },
   "file_extension": ".py",
   "mimetype": "text/x-python",
   "name": "python",
   "nbconvert_exporter": "python",
   "pygments_lexer": "ipython3",
   "version": "3.9.13"
  }
 },
 "nbformat": 4,
 "nbformat_minor": 5
}
