{
 "cells": [
  {
   "cell_type": "code",
   "execution_count": 1,
   "id": "07112b6d",
   "metadata": {},
   "outputs": [],
   "source": [
    "import numpy as np\n",
    "import pandas as pd\n",
    "import matplotlib.pyplot as plt\n",
    "from scipy import stats"
   ]
  },
  {
   "cell_type": "code",
   "execution_count": 2,
   "id": "acca647f",
   "metadata": {},
   "outputs": [
    {
     "data": {
      "text/plain": [
       "0.1510752871020976"
      ]
     },
     "execution_count": 2,
     "metadata": {},
     "output_type": "execute_result"
    }
   ],
   "source": [
    "p = 0.1\n",
    "n = 618\n",
    "seventy_surveys = stats.binom(n, p).sf(69)\n",
    "seventy_surveys"
   ]
  },
  {
   "cell_type": "code",
   "execution_count": 11,
   "id": "30aca975",
   "metadata": {},
   "outputs": [
    {
     "data": {
      "text/plain": [
       "0.7475074624530771"
      ]
     },
     "execution_count": 11,
     "metadata": {},
     "output_type": "execute_result"
    }
   ],
   "source": [
    "# Assume that the time it takes to order and eat the burger special at \n",
    "# the Esquire is normally distributed with a mean of 40 minutes and a \n",
    "# standard deviation of 15 minutes. If it takes 5 minutes to walk from Codeup \n",
    "# to the restaurant, what is the likelihood that you can go eat at \n",
    "# The Esquire during your lunch hour and not be late back to class?\n",
    "\n",
    "time = 60 - 5 - 5\n",
    "stats.norm(40, 15).cdf(time)"
   ]
  }
 ],
 "metadata": {
  "kernelspec": {
   "display_name": "Python 3 (ipykernel)",
   "language": "python",
   "name": "python3"
  },
  "language_info": {
   "codemirror_mode": {
    "name": "ipython",
    "version": 3
   },
   "file_extension": ".py",
   "mimetype": "text/x-python",
   "name": "python",
   "nbconvert_exporter": "python",
   "pygments_lexer": "ipython3",
   "version": "3.9.13"
  }
 },
 "nbformat": 4,
 "nbformat_minor": 5
}
