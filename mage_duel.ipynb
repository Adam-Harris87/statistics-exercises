{
 "cells": [
  {
   "cell_type": "markdown",
   "id": "e3f5f49a",
   "metadata": {},
   "source": [
    "Let's use what we've learned to play a mage duel!\n",
    "\n",
    "Imagine your wizard has 6d4 health points and you have spells that do 6d4 damage. \"6d4\" means rolling six 4-sided dice and summing the result.\n",
    "\n",
    "Your opposing mage has 4d6 health points and spells that do 4d6. \"4d6\" means rolling four six-sided dice and summing the result.\n",
    "\n",
    "Exercises\n",
    "\n",
    "Simulate mage duels to answer who is the more powerful mage?\n",
    "\n",
    "1. Before running simulations, do you have a hypothesis of which mage will win? \n",
    "- Do you have a hunch? Write it down. This is your first exercise.\n",
    "2. Simulate 10 mage duels. Is there a clear winner? \n",
    "- Run that 10 duel simulation again. Was the answer similar?\n",
    "3. Do the results change much at 100 duels?\n",
    "4. Now, simulate 10,000 mage duels. Is there a clear winner?"
   ]
  },
  {
   "cell_type": "markdown",
   "id": "08f1a788",
   "metadata": {},
   "source": [
    "I believe that our wizard will be more powerful, because the minimum dice total value of both hp and attack (6) is higher than the enemy minimum hp and attack value (4)."
   ]
  },
  {
   "cell_type": "code",
   "execution_count": 174,
   "id": "4244b747",
   "metadata": {},
   "outputs": [
    {
     "name": "stdout",
     "output_type": "stream",
     "text": [
      "expected value of 6d4 is: 15.0\n",
      "expected value of 4d6 is: 14.0\n"
     ]
    }
   ],
   "source": [
    "#expected values of dice rolls\n",
    "ev_6d4 = (1*(.25) + 2*(.25) + 3*(.25) + 4*(.25)) * 6\n",
    "ev_4d6 = (1*(1/6) + 2*(1/6) + 3*(1/6) + 4*(1/6) + 5*(1/6) + 6*(1/6)) * 4\n",
    "print(f'expected value of 6d4 is: {ev_6d4}')\n",
    "print(f'expected value of 4d6 is: {ev_4d6}')"
   ]
  },
  {
   "cell_type": "code",
   "execution_count": 1,
   "id": "711ca5f3",
   "metadata": {},
   "outputs": [],
   "source": [
    "import numpy as np\n",
    "import pandas as pd"
   ]
  },
  {
   "cell_type": "code",
   "execution_count": 183,
   "id": "625767a8",
   "metadata": {},
   "outputs": [
    {
     "name": "stdout",
     "output_type": "stream",
     "text": [
      "our wizard win percentage is: 0.3\n",
      "enemy win percentage is: 0.1\n",
      "tie percentage is: 0.6\n"
     ]
    }
   ],
   "source": [
    "n_simulations = n_rows = 10\n",
    "# create an empty list to store our wins list\n",
    "wins = []\n",
    "#wizard_hp is 6d4\n",
    "n_wizard_dice = n_cols_w = 6\n",
    "# get the wizard starting hp for each simulation\n",
    "wizard_starting_hp = np.random.choice([1,2,3,4], n_cols_w * n_rows).reshape(\n",
    "    n_rows, n_cols_w).sum(axis=1)\n",
    "#enemy_hp is 4d6\n",
    "n_enemy_dice = n_cols_e = 4\n",
    "# get the enemy starting hp for each simulation\n",
    "enemy_starting_hp = np.random.choice([1,2,3,4,5,6], n_cols_e * n_rows).reshape(\n",
    "    n_rows, n_cols_e).sum(axis=1)\n",
    "# print(wizard_starting_hp)\n",
    "\n",
    "for i in range(n_simulations):\n",
    "#     print(f'your wizard\\'s starting hp is {wizard_starting_hp[i]}')\n",
    "#     print(f'the enemy wizard\\'s starting hp is: {enemy_starting_hp[i]}')\n",
    "    wizard_hp = wizard_starting_hp[i]\n",
    "    enemy_hp = enemy_starting_hp[i]\n",
    "    while True:\n",
    "        # loop through attacks until one hp is 0\n",
    "        wizard_attack = np.random.choice([1,2,3,4], n_cols_w).sum()\n",
    "        enemy_attack  = np.random.choice([1,2,3,4,5,6], n_cols_e).sum()\n",
    "        wizard_hp -= enemy_attack\n",
    "#         print(f'enemy attacks for: {enemy_attack} wizard hp is: {wizard_hp}')\n",
    "        enemy_hp -= wizard_attack\n",
    "#         print(f'wizard attacks for: {wizard_attack} enemy hp is: {enemy_hp}')\n",
    "        # if one hp is 0 then break loop, store result, and move to next simulation\n",
    "        if (wizard_hp <= 0) and (enemy_hp <= 0):\n",
    "            wins.append('t') \n",
    "#             print('tie, nobody wins')\n",
    "            break\n",
    "        elif (wizard_hp <= 0):\n",
    "            wins.append('e') \n",
    "#             print('enemy wins')\n",
    "            break\n",
    "        elif (enemy_hp <= 0):\n",
    "            wins.append('w')\n",
    "#             print('your wizard wins')\n",
    "            break\n",
    "\n",
    "# print(wins)\n",
    "# percentages\n",
    "wizard_wins = round(wins.count('w') / len(wins), 4)\n",
    "print(f'our wizard win percentage is: {wizard_wins}')\n",
    "enemy_wins = round(wins.count('e') / len(wins), 4)\n",
    "print(f'enemy win percentage is: {enemy_wins}')\n",
    "ties = round(wins.count('t') / len(wins), 4)\n",
    "print(f'tie percentage is: {ties}')"
   ]
  },
  {
   "cell_type": "markdown",
   "id": "0c6800cb",
   "metadata": {},
   "source": [
    "after running 10 simulations most common outcome is tie, after that it appears our wizard wins more often"
   ]
  },
  {
   "cell_type": "code",
   "execution_count": 184,
   "id": "e2fc9256",
   "metadata": {},
   "outputs": [
    {
     "name": "stdout",
     "output_type": "stream",
     "text": [
      "our wizard win percentage is: 0.34\n",
      "enemy win percentage is: 0.1\n",
      "tie percentage is: 0.56\n"
     ]
    }
   ],
   "source": [
    "# 100 duels\n",
    "n_simulations = n_rows = 100\n",
    "# create an empty list to store our wins list\n",
    "wins = []\n",
    "#wizard_hp is 6d4\n",
    "n_wizard_dice = n_cols_w = 6\n",
    "# get the wizard starting hp for each simulation\n",
    "wizard_starting_hp = np.random.choice([1,2,3,4], n_cols_w * n_rows).reshape(\n",
    "    n_rows, n_cols_w).sum(axis=1)\n",
    "#enemy_hp is 4d6\n",
    "n_enemy_dice = n_cols_e = 4\n",
    "# get the enemy starting hp for each simulation\n",
    "enemy_starting_hp = np.random.choice([1,2,3,4,5,6], n_cols_e * n_rows).reshape(\n",
    "    n_rows, n_cols_e).sum(axis=1)\n",
    "# print(wizard_starting_hp)\n",
    "\n",
    "for i in range(n_simulations):\n",
    "#     print(f'your wizard\\'s starting hp is {wizard_starting_hp[i]}')\n",
    "#     print(f'the enemy wizard\\'s starting hp is: {enemy_starting_hp[i]}')\n",
    "    wizard_hp = wizard_starting_hp[i]\n",
    "    enemy_hp = enemy_starting_hp[i]\n",
    "    while True:\n",
    "        # loop through attacks until one hp is 0\n",
    "        wizard_attack = np.random.choice([1,2,3,4], n_cols_w).sum()\n",
    "        enemy_attack  = np.random.choice([1,2,3,4,5,6], n_cols_e).sum()\n",
    "        wizard_hp -= enemy_attack\n",
    "#         print(f'enemy attacks for: {enemy_attack} wizard hp is: {wizard_hp}')\n",
    "        enemy_hp -= wizard_attack\n",
    "#         print(f'wizard attacks for: {wizard_attack} enemy hp is: {enemy_hp}')\n",
    "        # if one hp is 0 then break loop, store result, and move to next simulation\n",
    "        if (wizard_hp <= 0) and (enemy_hp <= 0):\n",
    "            wins.append('t') \n",
    "#             print('tie, nobody wins')\n",
    "            break\n",
    "        elif (wizard_hp <= 0):\n",
    "            wins.append('e') \n",
    "#             print('enemy wins')\n",
    "            break\n",
    "        elif (enemy_hp <= 0):\n",
    "            wins.append('w')\n",
    "#             print('your wizard wins')\n",
    "            break\n",
    "\n",
    "# print(wins)\n",
    "# percentages\n",
    "wizard_wins = round(wins.count('w') / len(wins), 4)\n",
    "print(f'our wizard win percentage is: {wizard_wins}')\n",
    "enemy_wins = round(wins.count('e') / len(wins), 4)\n",
    "print(f'enemy win percentage is: {enemy_wins}')\n",
    "ties = round(wins.count('t') / len(wins), 4)\n",
    "print(f'tie percentage is: {ties}')"
   ]
  },
  {
   "cell_type": "markdown",
   "id": "84864d57",
   "metadata": {},
   "source": [
    "after 100 duels: tie is the most frequent outcome, after that our wizard wins most often"
   ]
  },
  {
   "cell_type": "code",
   "execution_count": 190,
   "id": "37957bac",
   "metadata": {},
   "outputs": [
    {
     "name": "stdout",
     "output_type": "stream",
     "text": [
      "our wizard win percentage is: 0.3452\n",
      "enemy win percentage is: 0.1727\n",
      "tie percentage is: 0.4821\n"
     ]
    }
   ],
   "source": [
    "# 10_000 duels\n",
    "n_simulations = n_rows = 10_000\n",
    "# create an empty list to store our wins list\n",
    "wins = []\n",
    "#wizard_hp is 6d4\n",
    "n_wizard_dice = n_cols_w = 6\n",
    "# get the wizard starting hp for each simulation\n",
    "wizard_starting_hp = np.random.choice([1,2,3,4], n_cols_w * n_rows).reshape(\n",
    "    n_rows, n_cols_w).sum(axis=1)\n",
    "#enemy_hp is 4d6\n",
    "n_enemy_dice = n_cols_e = 4\n",
    "# get the enemy starting hp for each simulation\n",
    "enemy_starting_hp = np.random.choice([1,2,3,4,5,6], n_cols_e * n_rows).reshape(\n",
    "    n_rows, n_cols_e).sum(axis=1)\n",
    "# print(wizard_starting_hp)\n",
    "\n",
    "for i in range(n_simulations):\n",
    "#     print(f'your wizard\\'s starting hp is {wizard_starting_hp[i]}')\n",
    "#     print(f'the enemy wizard\\'s starting hp is: {enemy_starting_hp[i]}')\n",
    "    wizard_hp = wizard_starting_hp[i]\n",
    "    enemy_hp = enemy_starting_hp[i]\n",
    "    while True:\n",
    "        # loop through attacks until one hp is 0\n",
    "        wizard_attack = np.random.choice([1,2,3,4], n_cols_w).sum()\n",
    "        enemy_attack  = np.random.choice([1,2,3,4,5,6], n_cols_e).sum()\n",
    "        wizard_hp -= enemy_attack\n",
    "#         print(f'enemy attacks for: {enemy_attack} wizard hp is: {wizard_hp}')\n",
    "        enemy_hp -= wizard_attack\n",
    "#         print(f'wizard attacks for: {wizard_attack} enemy hp is: {enemy_hp}')\n",
    "        # if one hp is 0 then break loop, store result, and move to next simulation\n",
    "        if (wizard_hp <= 0) and (enemy_hp <= 0):\n",
    "            wins.append('t') \n",
    "#             print('tie, nobody wins')\n",
    "            break\n",
    "        elif (wizard_hp <= 0):\n",
    "            wins.append('e') \n",
    "#             print('enemy wins')\n",
    "            break\n",
    "        elif (enemy_hp <= 0):\n",
    "            wins.append('w')\n",
    "#             print('your wizard wins')\n",
    "            break\n",
    "\n",
    "# print(wins)\n",
    "# percentages\n",
    "wizard_wins = round(wins.count('w') / len(wins), 4)\n",
    "print(f'our wizard win percentage is: {wizard_wins}')\n",
    "enemy_wins = round(wins.count('e') / len(wins), 4)\n",
    "print(f'enemy win percentage is: {enemy_wins}')\n",
    "ties = round(wins.count('t') / len(wins), 4)\n",
    "print(f'tie percentage is: {ties}')"
   ]
  },
  {
   "cell_type": "markdown",
   "id": "b256b41a",
   "metadata": {},
   "source": [
    "Our wizard is the clear winner with around 35% win rate, tie is around 48% and the enemy wins around 17%. This is the outcome that I was expecting."
   ]
  }
 ],
 "metadata": {
  "kernelspec": {
   "display_name": "Python 3 (ipykernel)",
   "language": "python",
   "name": "python3"
  },
  "language_info": {
   "codemirror_mode": {
    "name": "ipython",
    "version": 3
   },
   "file_extension": ".py",
   "mimetype": "text/x-python",
   "name": "python",
   "nbconvert_exporter": "python",
   "pygments_lexer": "ipython3",
   "version": "3.9.13"
  }
 },
 "nbformat": 4,
 "nbformat_minor": 5
}
