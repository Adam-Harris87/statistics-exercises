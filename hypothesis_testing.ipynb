{
 "cells": [
  {
   "cell_type": "code",
   "execution_count": 3,
   "id": "4972f7e1",
   "metadata": {},
   "outputs": [],
   "source": [
    "import numpy as np\n",
    "import seaborn as sns\n",
    "import scipy.stats as stats\n",
    "import pandas as pd\n",
    "import matplotlib.pyplot as plt\n",
    "from pydataset import data"
   ]
  },
  {
   "cell_type": "markdown",
   "id": "5d4c13d3",
   "metadata": {},
   "source": [
    "## 1. Answer with the type of test you would use (assume normal distribution):\n",
    "- Is there a difference in grades of students on the second floor compared to grades of all students?\n",
    "- Are adults who drink milk taller than adults who dont drink milk?\n",
    "- Is the the price of gas higher in texas or in new mexico?\n",
    "- Are there differences in stress levels between students who take data science vs students who take web development vs students who take cloud academy?"
   ]
  },
  {
   "cell_type": "code",
   "execution_count": null,
   "id": "d17eb327",
   "metadata": {},
   "outputs": [],
   "source": [
    "#Is there a difference in grades of students on the \n",
    "#second floor compared to grades of all students?\n",
    "\n",
    "# 1-sample, 2-tailed test\n",
    "#h_0 : there is no difference between student grades on the 2nd floor from all students\n",
    "#h_a : there is a difference between student grades on the 2nd floor from all students"
   ]
  },
  {
   "cell_type": "code",
   "execution_count": null,
   "id": "6fb8c467",
   "metadata": {},
   "outputs": [],
   "source": [
    "#Are adults who drink milk taller than adults who dont drink milk?\n",
    "\n",
    "# 2-sample, 1-tailed test\n",
    "# h_0 : adults who drink milk are <= height as adults who don't drink milk\n",
    "# h_a : adults who drink milk are > height as adults who don't drink milk"
   ]
  },
  {
   "cell_type": "code",
   "execution_count": null,
   "id": "195363df",
   "metadata": {},
   "outputs": [],
   "source": [
    "#Is the the price of gas higher in texas or in new mexico?\n",
    "\n",
    "# 2x 2-sample, 1-tailed test\n",
    "# 1-h_0 : gas price in texas is <= price in new mexico\n",
    "# 1-h_a : gas price in texas is > price in new mexico\n",
    "# 2-h_0 : gas price in new mexico is <= price in texas\n",
    "# 2-h_a : gas price in new mexico is > price in texas"
   ]
  },
  {
   "cell_type": "code",
   "execution_count": null,
   "id": "f73c43af",
   "metadata": {},
   "outputs": [],
   "source": [
    "#Are there differences in stress levels between students who take \n",
    "#data science vs students who take web development vs students who take cloud academy?\n",
    "\n",
    "# ANOVA: \n",
    "# scipy.stats.f_oneway\n",
    "# 1-h_0 : stress of students are = stress of other students\n",
    "# 1-h_a : stress of data science students != web dev students != cloud academy students"
   ]
  },
  {
   "cell_type": "markdown",
   "id": "16fd811d",
   "metadata": {},
   "source": [
    "## 2. Ace Realty wants to determine whether the average time it takes to sell homes is different for its two offices. \n",
    "A sample of 40 sales from office #1 revealed a mean of 90 days and a standard deviation of 15 days. A sample of 50 sales from office #2 revealed a mean of 100 days and a standard deviation of 20 days. Use a .05 level of significance."
   ]
  },
  {
   "cell_type": "markdown",
   "id": "2102742d",
   "metadata": {},
   "source": [
    "H$_0$ : average time to sell home at office 1 = avg time to sell home at office 2\n",
    "\n",
    "H$_a$ : avg time to sell home at office 1 != avg time to sell home at office 2\n",
    "\n",
    "alpha : 0.05\n",
    "\n",
    "We will use a 2-sample, 2-tailed test : stats.ttest_ind_from_stats()"
   ]
  },
  {
   "cell_type": "code",
   "execution_count": 2,
   "id": "d192e4ba",
   "metadata": {},
   "outputs": [],
   "source": [
    "# assign variables to our sample stats\n",
    "α = 0.05\n",
    "office_1_n = 40\n",
    "office_1_mean = 90\n",
    "office_1_stddev = 15\n",
    "office_2_n = 50\n",
    "office_2_mean = 100\n",
    "office_2_stddev = 20"
   ]
  },
  {
   "cell_type": "markdown",
   "id": "29480e9e",
   "metadata": {},
   "source": [
    "#### sub-test\n",
    "check for normality"
   ]
  },
  {
   "cell_type": "code",
   "execution_count": 6,
   "id": "04bf5f00",
   "metadata": {},
   "outputs": [
    {
     "data": {
      "text/plain": [
       "True"
      ]
     },
     "execution_count": 6,
     "metadata": {},
     "output_type": "execute_result"
    }
   ],
   "source": [
    "office_1_n >= 30"
   ]
  },
  {
   "cell_type": "code",
   "execution_count": 7,
   "id": "adf88ef1",
   "metadata": {},
   "outputs": [
    {
     "data": {
      "text/plain": [
       "True"
      ]
     },
     "execution_count": 7,
     "metadata": {},
     "output_type": "execute_result"
    }
   ],
   "source": [
    "office_2_n >= 30"
   ]
  },
  {
   "cell_type": "markdown",
   "id": "e38e9acf",
   "metadata": {},
   "source": [
    "both datasets are normal(ish)"
   ]
  },
  {
   "cell_type": "markdown",
   "id": "44ab4dfc",
   "metadata": {},
   "source": [
    "### check for variance equivelency\n",
    "var = $σ^2$"
   ]
  },
  {
   "cell_type": "code",
   "execution_count": 10,
   "id": "a83fe50b",
   "metadata": {},
   "outputs": [],
   "source": [
    "#var = σ ** 2\n",
    "off_1_var = office_1_stddev ** 2\n",
    "off_2_var = office_2_stddev ** 2"
   ]
  },
  {
   "cell_type": "code",
   "execution_count": 11,
   "id": "6cabb251",
   "metadata": {},
   "outputs": [
    {
     "name": "stdout",
     "output_type": "stream",
     "text": [
      "225\n",
      "400\n"
     ]
    }
   ],
   "source": [
    "print(off_1_var)\n",
    "print(off_2_var)"
   ]
  },
  {
   "cell_type": "markdown",
   "id": "cabdf7ec",
   "metadata": {},
   "source": [
    "variances are not equal"
   ]
  },
  {
   "cell_type": "code",
   "execution_count": 12,
   "id": "6f7b70a5",
   "metadata": {},
   "outputs": [],
   "source": [
    "t_stat, p_val = stats.ttest_ind_from_stats(\n",
    "    office_1_mean, office_1_stddev, office_1_n,\n",
    "    office_2_mean, office_2_stddev, office_2_n,\n",
    "    equal_var=False)"
   ]
  },
  {
   "cell_type": "code",
   "execution_count": 13,
   "id": "49e25d48",
   "metadata": {},
   "outputs": [
    {
     "data": {
      "text/plain": [
       "-2.7091418459143854"
      ]
     },
     "execution_count": 13,
     "metadata": {},
     "output_type": "execute_result"
    }
   ],
   "source": [
    "t_stat"
   ]
  },
  {
   "cell_type": "code",
   "execution_count": 14,
   "id": "866b096f",
   "metadata": {},
   "outputs": [
    {
     "data": {
      "text/plain": [
       "0.00811206270346016"
      ]
     },
     "execution_count": 14,
     "metadata": {},
     "output_type": "execute_result"
    }
   ],
   "source": [
    "p_val"
   ]
  },
  {
   "cell_type": "code",
   "execution_count": 15,
   "id": "8ade1577",
   "metadata": {},
   "outputs": [
    {
     "data": {
      "text/plain": [
       "True"
      ]
     },
     "execution_count": 15,
     "metadata": {},
     "output_type": "execute_result"
    }
   ],
   "source": [
    "# 2-tailed test so looking for p_val < alpha\n",
    "p_val < α"
   ]
  },
  {
   "cell_type": "markdown",
   "id": "a9a79432",
   "metadata": {},
   "source": [
    "The p_value is less than our alpha, therefore we will:\n",
    "\n",
    "Reject H$_0$ and suggest that there is a difference in the mean time to sell a house between the 2 offices"
   ]
  },
  {
   "cell_type": "markdown",
   "id": "1057909f",
   "metadata": {},
   "source": [
    "## 3. Load the mpg dataset and use it to answer the following questions:\n",
    "- Is there a difference in fuel-efficiency in cars from 2008 vs 1999?\n",
    "- Are compact cars more fuel-efficient than the average car?\n",
    "- Do manual cars get better gas mileage than automatic cars?"
   ]
  },
  {
   "cell_type": "code",
   "execution_count": 16,
   "id": "0ff09e7f",
   "metadata": {},
   "outputs": [],
   "source": [
    "mpg = data('mpg')"
   ]
  },
  {
   "cell_type": "code",
   "execution_count": 18,
   "id": "a770c970",
   "metadata": {},
   "outputs": [
    {
     "data": {
      "text/html": [
       "<div>\n",
       "<style scoped>\n",
       "    .dataframe tbody tr th:only-of-type {\n",
       "        vertical-align: middle;\n",
       "    }\n",
       "\n",
       "    .dataframe tbody tr th {\n",
       "        vertical-align: top;\n",
       "    }\n",
       "\n",
       "    .dataframe thead th {\n",
       "        text-align: right;\n",
       "    }\n",
       "</style>\n",
       "<table border=\"1\" class=\"dataframe\">\n",
       "  <thead>\n",
       "    <tr style=\"text-align: right;\">\n",
       "      <th></th>\n",
       "      <th>manufacturer</th>\n",
       "      <th>model</th>\n",
       "      <th>displ</th>\n",
       "      <th>year</th>\n",
       "      <th>cyl</th>\n",
       "      <th>trans</th>\n",
       "      <th>drv</th>\n",
       "      <th>cty</th>\n",
       "      <th>hwy</th>\n",
       "      <th>fl</th>\n",
       "      <th>class</th>\n",
       "    </tr>\n",
       "  </thead>\n",
       "  <tbody>\n",
       "    <tr>\n",
       "      <th>1</th>\n",
       "      <td>audi</td>\n",
       "      <td>a4</td>\n",
       "      <td>1.8</td>\n",
       "      <td>1999</td>\n",
       "      <td>4</td>\n",
       "      <td>auto(l5)</td>\n",
       "      <td>f</td>\n",
       "      <td>18</td>\n",
       "      <td>29</td>\n",
       "      <td>p</td>\n",
       "      <td>compact</td>\n",
       "    </tr>\n",
       "    <tr>\n",
       "      <th>2</th>\n",
       "      <td>audi</td>\n",
       "      <td>a4</td>\n",
       "      <td>1.8</td>\n",
       "      <td>1999</td>\n",
       "      <td>4</td>\n",
       "      <td>manual(m5)</td>\n",
       "      <td>f</td>\n",
       "      <td>21</td>\n",
       "      <td>29</td>\n",
       "      <td>p</td>\n",
       "      <td>compact</td>\n",
       "    </tr>\n",
       "    <tr>\n",
       "      <th>3</th>\n",
       "      <td>audi</td>\n",
       "      <td>a4</td>\n",
       "      <td>2.0</td>\n",
       "      <td>2008</td>\n",
       "      <td>4</td>\n",
       "      <td>manual(m6)</td>\n",
       "      <td>f</td>\n",
       "      <td>20</td>\n",
       "      <td>31</td>\n",
       "      <td>p</td>\n",
       "      <td>compact</td>\n",
       "    </tr>\n",
       "    <tr>\n",
       "      <th>4</th>\n",
       "      <td>audi</td>\n",
       "      <td>a4</td>\n",
       "      <td>2.0</td>\n",
       "      <td>2008</td>\n",
       "      <td>4</td>\n",
       "      <td>auto(av)</td>\n",
       "      <td>f</td>\n",
       "      <td>21</td>\n",
       "      <td>30</td>\n",
       "      <td>p</td>\n",
       "      <td>compact</td>\n",
       "    </tr>\n",
       "    <tr>\n",
       "      <th>5</th>\n",
       "      <td>audi</td>\n",
       "      <td>a4</td>\n",
       "      <td>2.8</td>\n",
       "      <td>1999</td>\n",
       "      <td>6</td>\n",
       "      <td>auto(l5)</td>\n",
       "      <td>f</td>\n",
       "      <td>16</td>\n",
       "      <td>26</td>\n",
       "      <td>p</td>\n",
       "      <td>compact</td>\n",
       "    </tr>\n",
       "  </tbody>\n",
       "</table>\n",
       "</div>"
      ],
      "text/plain": [
       "  manufacturer model  displ  year  cyl       trans drv  cty  hwy fl    class\n",
       "1         audi    a4    1.8  1999    4    auto(l5)   f   18   29  p  compact\n",
       "2         audi    a4    1.8  1999    4  manual(m5)   f   21   29  p  compact\n",
       "3         audi    a4    2.0  2008    4  manual(m6)   f   20   31  p  compact\n",
       "4         audi    a4    2.0  2008    4    auto(av)   f   21   30  p  compact\n",
       "5         audi    a4    2.8  1999    6    auto(l5)   f   16   26  p  compact"
      ]
     },
     "execution_count": 18,
     "metadata": {},
     "output_type": "execute_result"
    }
   ],
   "source": [
    "mpg.head()"
   ]
  },
  {
   "cell_type": "code",
   "execution_count": 19,
   "id": "d4dfc38a",
   "metadata": {},
   "outputs": [],
   "source": [
    "#create a column for the average of cty and hwy fuel effiencies\n",
    "mpg['fuel'] = (mpg.cty + mpg.hwy) / 2"
   ]
  },
  {
   "cell_type": "markdown",
   "id": "76116ef4",
   "metadata": {},
   "source": [
    "### Is there a difference in fuel-efficiency in cars from 2008 vs 1999?\n",
    "\n",
    "H$_0$ : there is no difference between avg fuel-effiency of 2008 cars and 1999 cars\n",
    "\n",
    "H$_a$ : there is a difference between avg fuel-effiency of 2008 cars and 1999 cars\n",
    "\n",
    "alpha : 0.05\n",
    "\n",
    "This will be a 2-sample, 2-tailed test"
   ]
  },
  {
   "cell_type": "code",
   "execution_count": 21,
   "id": "d43651b0",
   "metadata": {},
   "outputs": [],
   "source": [
    "fuel_1999 = mpg[mpg.year == 1999].fuel\n",
    "fuel_2008 = mpg[mpg.year == 2008].fuel"
   ]
  },
  {
   "cell_type": "markdown",
   "id": "8bdd6737",
   "metadata": {},
   "source": [
    "### sub-tests\n",
    "are samples normal\n",
    "\n",
    "are variances equal"
   ]
  },
  {
   "cell_type": "code",
   "execution_count": 23,
   "id": "d22d12fc",
   "metadata": {},
   "outputs": [
    {
     "data": {
      "text/plain": [
       "(117, 117)"
      ]
     },
     "execution_count": 23,
     "metadata": {},
     "output_type": "execute_result"
    }
   ],
   "source": [
    "fuel_1999.size, fuel_2008.size"
   ]
  },
  {
   "cell_type": "markdown",
   "id": "2c5a140c",
   "metadata": {},
   "source": [
    "sample sizes are > 30, so we can assume normal"
   ]
  },
  {
   "cell_type": "markdown",
   "id": "44dfb390",
   "metadata": {},
   "source": [
    "levene test to check if variances are equal\n",
    "\n",
    "h_0: varainces are equal\n",
    "\n",
    "h_a: variance are different\n",
    "\n",
    "alpha 0.05"
   ]
  },
  {
   "cell_type": "code",
   "execution_count": 24,
   "id": "7068d9b8",
   "metadata": {},
   "outputs": [
    {
     "data": {
      "text/plain": [
       "LeveneResult(statistic=0.033228136671080453, pvalue=0.855517569468803)"
      ]
     },
     "execution_count": 24,
     "metadata": {},
     "output_type": "execute_result"
    }
   ],
   "source": [
    "#levene test to check variance equivalency\n",
    "stats.levene(fuel_1999, fuel_2008)"
   ]
  },
  {
   "cell_type": "markdown",
   "id": "e3a2ac03",
   "metadata": {},
   "source": [
    "p_value of levene test is > alpha of 0.05, therefore we fail to reject the h_0 that the variances are equal"
   ]
  },
  {
   "cell_type": "code",
   "execution_count": 60,
   "id": "b601a507",
   "metadata": {},
   "outputs": [],
   "source": [
    "t_stat, p_val = stats.ttest_ind(fuel_1999, fuel_2008, equal_var=True)"
   ]
  },
  {
   "cell_type": "code",
   "execution_count": 61,
   "id": "0c4fbc7f",
   "metadata": {},
   "outputs": [
    {
     "data": {
      "text/plain": [
       "0.21960177245940962"
      ]
     },
     "execution_count": 61,
     "metadata": {},
     "output_type": "execute_result"
    }
   ],
   "source": [
    "t_stat"
   ]
  },
  {
   "cell_type": "code",
   "execution_count": 62,
   "id": "f3acbd8f",
   "metadata": {},
   "outputs": [
    {
     "data": {
      "text/plain": [
       "False"
      ]
     },
     "execution_count": 62,
     "metadata": {},
     "output_type": "execute_result"
    }
   ],
   "source": [
    "# 2-tailed test so looking for p_val < α\n",
    "p_val < α"
   ]
  },
  {
   "cell_type": "markdown",
   "id": "6e79d8d0",
   "metadata": {},
   "source": [
    "p_val > alpha, therefore we fail to reject the H_0, there is not enough evidence to show a difference between avg fuel effiency of vehicles from 1999 and 2008"
   ]
  },
  {
   "cell_type": "markdown",
   "id": "a4191e44",
   "metadata": {},
   "source": [
    "### Are compact cars more fuel-efficient than the average car?\n",
    "H$_0$ : compact car avg fuel efficiency <= that of dataset avg fuel efficiency\n",
    "\n",
    "H$_a$ : compact car avg fuel efficiency > that of dataset avg fuel eff\n",
    "\n",
    "alpha : 0.05\n",
    "\n",
    "This will be a 1-sample, 1-tailed test"
   ]
  },
  {
   "cell_type": "code",
   "execution_count": 29,
   "id": "a3450291",
   "metadata": {},
   "outputs": [
    {
     "data": {
      "text/plain": [
       "suv           62\n",
       "compact       47\n",
       "midsize       41\n",
       "subcompact    35\n",
       "pickup        33\n",
       "minivan       11\n",
       "2seater        5\n",
       "Name: class, dtype: int64"
      ]
     },
     "execution_count": 29,
     "metadata": {},
     "output_type": "execute_result"
    }
   ],
   "source": [
    "mpg['class'].value_counts()"
   ]
  },
  {
   "cell_type": "code",
   "execution_count": 43,
   "id": "b597f6b7",
   "metadata": {},
   "outputs": [],
   "source": [
    "compact_fuel = mpg[mpg['class'] == 'compact'].fuel\n",
    "avg_fuel = mpg[mpg['class'] != 'compact'].fuel.mean()"
   ]
  },
  {
   "cell_type": "code",
   "execution_count": 48,
   "id": "a831eafb",
   "metadata": {},
   "outputs": [
    {
     "data": {
      "text/plain": [
       "24.21276595744681"
      ]
     },
     "execution_count": 48,
     "metadata": {},
     "output_type": "execute_result"
    }
   ],
   "source": [
    "compact_fuel.mean()"
   ]
  },
  {
   "cell_type": "code",
   "execution_count": 50,
   "id": "f5c5b4f7",
   "metadata": {},
   "outputs": [
    {
     "data": {
      "text/plain": [
       "19.128342245989305"
      ]
     },
     "execution_count": 50,
     "metadata": {},
     "output_type": "execute_result"
    }
   ],
   "source": [
    "avg_fuel"
   ]
  },
  {
   "cell_type": "markdown",
   "id": "76dc3176",
   "metadata": {},
   "source": [
    "#### sub-tests\n",
    "check if normal"
   ]
  },
  {
   "cell_type": "code",
   "execution_count": 42,
   "id": "aeee305d",
   "metadata": {},
   "outputs": [
    {
     "data": {
      "text/plain": [
       "47"
      ]
     },
     "execution_count": 42,
     "metadata": {},
     "output_type": "execute_result"
    }
   ],
   "source": [
    "compact_fuel.size"
   ]
  },
  {
   "cell_type": "markdown",
   "id": "c7339e40",
   "metadata": {},
   "source": [
    "datasets are normal"
   ]
  },
  {
   "cell_type": "code",
   "execution_count": 44,
   "id": "32714db0",
   "metadata": {},
   "outputs": [],
   "source": [
    "# 1-tailed where we want to see if compact_fuel is > avg_fuel, \n",
    "#so enter compact_fuel first and look for a positive t_stat\n",
    "t_stat, p_val = stats.ttest_1samp(compact_fuel, avg_fuel)"
   ]
  },
  {
   "cell_type": "code",
   "execution_count": 51,
   "id": "a4c1101a",
   "metadata": {},
   "outputs": [
    {
     "data": {
      "text/plain": [
       "True"
      ]
     },
     "execution_count": 51,
     "metadata": {},
     "output_type": "execute_result"
    }
   ],
   "source": [
    "# t_stat needs to be positive to reject h_0\n",
    "t_stat > 0"
   ]
  },
  {
   "cell_type": "code",
   "execution_count": 47,
   "id": "e95778c8",
   "metadata": {},
   "outputs": [
    {
     "data": {
      "text/plain": [
       "9.881668054080283"
      ]
     },
     "execution_count": 47,
     "metadata": {},
     "output_type": "execute_result"
    }
   ],
   "source": [
    "t_stat"
   ]
  },
  {
   "cell_type": "code",
   "execution_count": 58,
   "id": "991f601f",
   "metadata": {},
   "outputs": [
    {
     "data": {
      "text/plain": [
       "True"
      ]
     },
     "execution_count": 58,
     "metadata": {},
     "output_type": "execute_result"
    }
   ],
   "source": [
    "# 1-tailed test so looking for p_val / 2 < α\n",
    "p_val / 2 < α"
   ]
  },
  {
   "cell_type": "markdown",
   "id": "0485656f",
   "metadata": {},
   "source": [
    "the t_stat is > 0 and p_val/2 is < alpha, therefore we:\n",
    "\n",
    "Reject H$_0$ there is enough evidence suggest that compact car fuel efficiency is greater than the dataset average fuel efficiency"
   ]
  },
  {
   "cell_type": "markdown",
   "id": "a7deb89a",
   "metadata": {},
   "source": [
    "### Do manual cars get better gas mileage than automatic cars?\n",
    "H$_0$ : manual cars avg fuel efficiency is <= that of automatic transmission cars\n",
    "\n",
    "H$_a$ : manual cars avg fuel efficiency is > that of automatic transmission cars\n",
    "\n",
    "alpha : 0.05\n",
    "\n",
    "this will be a 2-sample, 1-tailed test"
   ]
  },
  {
   "cell_type": "code",
   "execution_count": 52,
   "id": "a6e65b56",
   "metadata": {},
   "outputs": [],
   "source": [
    "mpg['is_manual'] = mpg['trans'].str.startswith('manu')"
   ]
  },
  {
   "cell_type": "code",
   "execution_count": 53,
   "id": "8bbfabe2",
   "metadata": {},
   "outputs": [
    {
     "data": {
      "text/html": [
       "<div>\n",
       "<style scoped>\n",
       "    .dataframe tbody tr th:only-of-type {\n",
       "        vertical-align: middle;\n",
       "    }\n",
       "\n",
       "    .dataframe tbody tr th {\n",
       "        vertical-align: top;\n",
       "    }\n",
       "\n",
       "    .dataframe thead th {\n",
       "        text-align: right;\n",
       "    }\n",
       "</style>\n",
       "<table border=\"1\" class=\"dataframe\">\n",
       "  <thead>\n",
       "    <tr style=\"text-align: right;\">\n",
       "      <th></th>\n",
       "      <th>manufacturer</th>\n",
       "      <th>model</th>\n",
       "      <th>displ</th>\n",
       "      <th>year</th>\n",
       "      <th>cyl</th>\n",
       "      <th>trans</th>\n",
       "      <th>drv</th>\n",
       "      <th>cty</th>\n",
       "      <th>hwy</th>\n",
       "      <th>fl</th>\n",
       "      <th>class</th>\n",
       "      <th>fuel</th>\n",
       "      <th>is_manual</th>\n",
       "    </tr>\n",
       "  </thead>\n",
       "  <tbody>\n",
       "    <tr>\n",
       "      <th>1</th>\n",
       "      <td>audi</td>\n",
       "      <td>a4</td>\n",
       "      <td>1.8</td>\n",
       "      <td>1999</td>\n",
       "      <td>4</td>\n",
       "      <td>auto(l5)</td>\n",
       "      <td>f</td>\n",
       "      <td>18</td>\n",
       "      <td>29</td>\n",
       "      <td>p</td>\n",
       "      <td>compact</td>\n",
       "      <td>23.5</td>\n",
       "      <td>False</td>\n",
       "    </tr>\n",
       "    <tr>\n",
       "      <th>2</th>\n",
       "      <td>audi</td>\n",
       "      <td>a4</td>\n",
       "      <td>1.8</td>\n",
       "      <td>1999</td>\n",
       "      <td>4</td>\n",
       "      <td>manual(m5)</td>\n",
       "      <td>f</td>\n",
       "      <td>21</td>\n",
       "      <td>29</td>\n",
       "      <td>p</td>\n",
       "      <td>compact</td>\n",
       "      <td>25.0</td>\n",
       "      <td>True</td>\n",
       "    </tr>\n",
       "    <tr>\n",
       "      <th>3</th>\n",
       "      <td>audi</td>\n",
       "      <td>a4</td>\n",
       "      <td>2.0</td>\n",
       "      <td>2008</td>\n",
       "      <td>4</td>\n",
       "      <td>manual(m6)</td>\n",
       "      <td>f</td>\n",
       "      <td>20</td>\n",
       "      <td>31</td>\n",
       "      <td>p</td>\n",
       "      <td>compact</td>\n",
       "      <td>25.5</td>\n",
       "      <td>True</td>\n",
       "    </tr>\n",
       "    <tr>\n",
       "      <th>4</th>\n",
       "      <td>audi</td>\n",
       "      <td>a4</td>\n",
       "      <td>2.0</td>\n",
       "      <td>2008</td>\n",
       "      <td>4</td>\n",
       "      <td>auto(av)</td>\n",
       "      <td>f</td>\n",
       "      <td>21</td>\n",
       "      <td>30</td>\n",
       "      <td>p</td>\n",
       "      <td>compact</td>\n",
       "      <td>25.5</td>\n",
       "      <td>False</td>\n",
       "    </tr>\n",
       "    <tr>\n",
       "      <th>5</th>\n",
       "      <td>audi</td>\n",
       "      <td>a4</td>\n",
       "      <td>2.8</td>\n",
       "      <td>1999</td>\n",
       "      <td>6</td>\n",
       "      <td>auto(l5)</td>\n",
       "      <td>f</td>\n",
       "      <td>16</td>\n",
       "      <td>26</td>\n",
       "      <td>p</td>\n",
       "      <td>compact</td>\n",
       "      <td>21.0</td>\n",
       "      <td>False</td>\n",
       "    </tr>\n",
       "  </tbody>\n",
       "</table>\n",
       "</div>"
      ],
      "text/plain": [
       "  manufacturer model  displ  year  cyl       trans drv  cty  hwy fl    class  \\\n",
       "1         audi    a4    1.8  1999    4    auto(l5)   f   18   29  p  compact   \n",
       "2         audi    a4    1.8  1999    4  manual(m5)   f   21   29  p  compact   \n",
       "3         audi    a4    2.0  2008    4  manual(m6)   f   20   31  p  compact   \n",
       "4         audi    a4    2.0  2008    4    auto(av)   f   21   30  p  compact   \n",
       "5         audi    a4    2.8  1999    6    auto(l5)   f   16   26  p  compact   \n",
       "\n",
       "   fuel  is_manual  \n",
       "1  23.5      False  \n",
       "2  25.0       True  \n",
       "3  25.5       True  \n",
       "4  25.5      False  \n",
       "5  21.0      False  "
      ]
     },
     "execution_count": 53,
     "metadata": {},
     "output_type": "execute_result"
    }
   ],
   "source": [
    "mpg.head()"
   ]
  },
  {
   "cell_type": "code",
   "execution_count": 54,
   "id": "bc00baed",
   "metadata": {},
   "outputs": [],
   "source": [
    "manual_fuel = mpg[mpg.is_manual == True].fuel\n",
    "auto_fuel = mpg[mpg.is_manual == False].fuel"
   ]
  },
  {
   "cell_type": "markdown",
   "id": "fa0e4c84",
   "metadata": {},
   "source": [
    "#### Sub-tests\n",
    "check if both datasets normal\n",
    "\n",
    "check if variance is equal\n",
    "- h_0: variances are equal\n",
    "- h_a: variances are different\n",
    "- alpha: 0.05"
   ]
  },
  {
   "cell_type": "code",
   "execution_count": 55,
   "id": "c29425d6",
   "metadata": {},
   "outputs": [
    {
     "data": {
      "text/plain": [
       "(77, 157)"
      ]
     },
     "execution_count": 55,
     "metadata": {},
     "output_type": "execute_result"
    }
   ],
   "source": [
    "manual_fuel.size, auto_fuel.size"
   ]
  },
  {
   "cell_type": "markdown",
   "id": "b003871d",
   "metadata": {},
   "source": [
    "both datasets are normal"
   ]
  },
  {
   "cell_type": "code",
   "execution_count": 56,
   "id": "79256cdd",
   "metadata": {},
   "outputs": [
    {
     "data": {
      "text/plain": [
       "LeveneResult(statistic=0.20075824847529639, pvalue=0.6545276355131857)"
      ]
     },
     "execution_count": 56,
     "metadata": {},
     "output_type": "execute_result"
    }
   ],
   "source": [
    "stats.levene(manual_fuel, auto_fuel)"
   ]
  },
  {
   "cell_type": "markdown",
   "id": "0d79d803",
   "metadata": {},
   "source": [
    "p_val > α, therefore we fail to reject that the variances are equal"
   ]
  },
  {
   "cell_type": "code",
   "execution_count": 63,
   "id": "e6041317",
   "metadata": {},
   "outputs": [],
   "source": [
    "# 1-tailed looking for manual_fuel > auto_fuel so we enter manual_fuel first \n",
    "# and look for positive t\n",
    "t_stat, p_val = stats.ttest_ind(manual_fuel, auto_fuel, equal_var=True)"
   ]
  },
  {
   "cell_type": "code",
   "execution_count": 67,
   "id": "cf242d8e",
   "metadata": {},
   "outputs": [
    {
     "data": {
      "text/plain": [
       "True"
      ]
     },
     "execution_count": 67,
     "metadata": {},
     "output_type": "execute_result"
    }
   ],
   "source": [
    "# looking for positive t_stat in order to reject h_0\n",
    "# 1-tailed test so looking for p_val/2 < α to reject h_0\n",
    "(t_stat > 0) and (p_val / 2 < α)"
   ]
  },
  {
   "cell_type": "markdown",
   "id": "9e30ce45",
   "metadata": {},
   "source": [
    "t_stat is positive and p_val / 2 is less than alpha, therefore we:\n",
    "\n",
    "Reject H$_0$ there is enough evidence to suggest that manual transmission vehicle fuel efficiency is greater than automatic transmission vehicle fuel efficiency"
   ]
  }
 ],
 "metadata": {
  "kernelspec": {
   "display_name": "Python 3 (ipykernel)",
   "language": "python",
   "name": "python3"
  },
  "language_info": {
   "codemirror_mode": {
    "name": "ipython",
    "version": 3
   },
   "file_extension": ".py",
   "mimetype": "text/x-python",
   "name": "python",
   "nbconvert_exporter": "python",
   "pygments_lexer": "ipython3",
   "version": "3.9.13"
  }
 },
 "nbformat": 4,
 "nbformat_minor": 5
}
