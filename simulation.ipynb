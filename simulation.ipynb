{
 "cells": [
  {
   "cell_type": "code",
   "execution_count": 2,
   "id": "7b98ceeb",
   "metadata": {},
   "outputs": [],
   "source": [
    "import numpy as np\n",
    "import pandas as pd"
   ]
  },
  {
   "cell_type": "markdown",
   "id": "039cc196",
   "metadata": {},
   "source": [
    "1. How likely is it that you roll doubles when rolling two dice?"
   ]
  },
  {
   "cell_type": "code",
   "execution_count": 28,
   "id": "b59b081f",
   "metadata": {},
   "outputs": [
    {
     "name": "stdout",
     "output_type": "stream",
     "text": [
      "chance of getting doubles on 2d6 is: 0.1706\n"
     ]
    }
   ],
   "source": [
    "n_simulations = n_rows = 10000\n",
    "n_dice_rolls = n_cols = 2\n",
    "\n",
    "rolls = np.random.choice([1,2,3,4,5,6], n_rows * n_cols).reshape(n_rows, n_cols)\n",
    "\n",
    "doubles = pd.DataFrame(rolls).apply(lambda row: row[0] == row[1], axis=1).mean()\n",
    "print(f'chance of getting doubles on 2d6 is: {doubles}')"
   ]
  },
  {
   "cell_type": "markdown",
   "id": "13456fa0",
   "metadata": {},
   "source": [
    "2. If you flip 8 coins, what is the probability of getting exactly 3 heads? What is the probability of getting more than 3 heads?"
   ]
  },
  {
   "cell_type": "code",
   "execution_count": 29,
   "id": "aae7a494",
   "metadata": {},
   "outputs": [
    {
     "name": "stdout",
     "output_type": "stream",
     "text": [
      "chance of getting 3 heads is: 0.2183\n",
      "chance of getting more than 3 heads is: 0.6389\n"
     ]
    }
   ],
   "source": [
    "n_simulations = n_rows = 10_000\n",
    "n_flips = n_cols = 8\n",
    "\n",
    "flips = np.random.choice([0,1], n_rows * n_cols).reshape(n_rows, n_cols)\n",
    "\n",
    "three_heads = pd.DataFrame(flips).apply(lambda row: row.sum() == 3, axis=1).mean()\n",
    "more_than_three_heads = pd.DataFrame(flips).apply(lambda row: row.sum() > 3, axis=1).mean()\n",
    "\n",
    "print(f'chance of getting 3 heads is: {three_heads}')\n",
    "print(f'chance of getting more than 3 heads is: {more_than_three_heads}')"
   ]
  },
  {
   "cell_type": "markdown",
   "id": "e1d49202",
   "metadata": {},
   "source": [
    "3. There are approximitely 3 web development cohorts for every 1 data science cohort at Codeup. Assuming that Codeup randomly selects an alumni to put on a billboard, what are the odds that the two billboards I drive past both have data science students on them?"
   ]
  },
  {
   "cell_type": "code",
   "execution_count": 51,
   "id": "890351e9",
   "metadata": {},
   "outputs": [
    {
     "name": "stdout",
     "output_type": "stream",
     "text": [
      "chance of selecting two data science students is: 0.0614\n"
     ]
    }
   ],
   "source": [
    "n_simulations = n_rows = 10_000\n",
    "n_choices = n_cols = 2\n",
    "\n",
    "selections = np.random.choice(['w','w','w','d'], n_rows * n_cols).reshape(n_rows, n_cols)\n",
    "two_ds = pd.DataFrame(selections).apply(lambda row: row[0] + row[1] == 'dd', axis=1).mean()\n",
    "\n",
    "print(f'chance of selecting two data science students is: {two_ds}')"
   ]
  },
  {
   "cell_type": "markdown",
   "id": "bc011d88",
   "metadata": {},
   "source": [
    "4. Codeup students buy, on average, 3 poptart packages with a standard deviation of 1.5 a day from the snack vending machine. If on monday the machine is restocked with 17 poptart packages, how likely is it that I will be able to buy some poptarts on Friday afternoon? (Remember, if you have mean and standard deviation, use the np.random.normal) You'll need to make a judgement call on how to handle some of your values"
   ]
  },
  {
   "cell_type": "code",
   "execution_count": 107,
   "id": "26922261",
   "metadata": {},
   "outputs": [
    {
     "name": "stdout",
     "output_type": "stream",
     "text": [
      "chance that you will be able to buy poptarts on friday afternoon is: 0.7206\n"
     ]
    }
   ],
   "source": [
    "n_simulations = n_rows = 10_000\n",
    "n_days = n_cols = 5\n",
    "\n",
    "poptarts_day = np.random.normal(3, 1.5, n_rows * n_cols).reshape(n_rows, n_cols)\n",
    "poptarts_day[poptarts_day < 0] = 0\n",
    "friday_poptarts = pd.DataFrame(poptarts_day).apply(lambda row: row.sum() >= 17, axis=1)\n",
    "print(f'chance that you will be able to buy poptarts \\\n",
    "on friday afternoon is: {1 - friday_poptarts.mean()}')"
   ]
  },
  {
   "cell_type": "markdown",
   "id": "49e9a802",
   "metadata": {},
   "source": [
    "5. Compare Heights\n",
    "\n",
    "- Men have an average height of 178 cm and standard deviation of 8cm.\n",
    "- Women have a mean of 170, sd = 6cm.\n",
    "- Since you have means and standard deviations, you can use np.random.normal to generate observations.\n",
    "- If a man and woman are chosen at random, what is the likelihood the woman is taller than the man?"
   ]
  },
  {
   "cell_type": "code",
   "execution_count": 124,
   "id": "521b58a4",
   "metadata": {},
   "outputs": [
    {
     "name": "stdout",
     "output_type": "stream",
     "text": [
      "chance that a woman is taller than a man is: 0.2049\n"
     ]
    }
   ],
   "source": [
    "n_simulations = n_rows = 10_000\n",
    "n_cols = 1\n",
    "\n",
    "men = np.random.normal(178, 8, n_rows * n_cols).reshape(n_rows, n_cols)\n",
    "women = np.random.normal(170, 6, n_rows * n_cols).reshape(n_rows, n_cols)\n",
    "\n",
    "men_minus_women = pd.DataFrame(men - women).apply(\n",
    "    lambda row: row < 0, axis=1).mean()[0]\n",
    "print(f'chance that a woman is taller than a man is: {men_minus_women}')"
   ]
  },
  {
   "cell_type": "markdown",
   "id": "adc135b3",
   "metadata": {},
   "source": [
    "6. When installing anaconda on a student's computer, there's a 1 in 250 chance that the download is corrupted and the installation fails. \n",
    "- What are the odds that after having 50 students download anaconda, no one has an installation issue? \n",
    "- 100 students?\n",
    "- What is the probability that we observe an installation issue within the first 150 students that download anaconda?\n",
    "- How likely is it that 450 students all download anaconda without an issue?"
   ]
  },
  {
   "cell_type": "code",
   "execution_count": 126,
   "id": "787c79f3",
   "metadata": {},
   "outputs": [
    {
     "ename": "NameError",
     "evalue": "name 'stddev' is not defined",
     "output_type": "error",
     "traceback": [
      "\u001b[0;31m---------------------------------------------------------------------------\u001b[0m",
      "\u001b[0;31mNameError\u001b[0m                                 Traceback (most recent call last)",
      "\u001b[0;32m/var/folders/49/v6sf5vy165dghytk4qv6jfhc0000gn/T/ipykernel_2103/2645756459.py\u001b[0m in \u001b[0;36m<module>\u001b[0;34m\u001b[0m\n\u001b[1;32m      2\u001b[0m \u001b[0mn_students\u001b[0m \u001b[0;34m=\u001b[0m \u001b[0mn_cols\u001b[0m \u001b[0;34m=\u001b[0m \u001b[0;36m50\u001b[0m\u001b[0;34m\u001b[0m\u001b[0;34m\u001b[0m\u001b[0m\n\u001b[1;32m      3\u001b[0m \u001b[0;34m\u001b[0m\u001b[0m\n\u001b[0;32m----> 4\u001b[0;31m \u001b[0mfails\u001b[0m \u001b[0;34m=\u001b[0m \u001b[0mnp\u001b[0m\u001b[0;34m.\u001b[0m\u001b[0mrandom\u001b[0m\u001b[0;34m.\u001b[0m\u001b[0mnormal\u001b[0m\u001b[0;34m(\u001b[0m\u001b[0;34m(\u001b[0m\u001b[0;36m1\u001b[0m\u001b[0;34m/\u001b[0m\u001b[0;36m250\u001b[0m\u001b[0;34m)\u001b[0m\u001b[0;34m,\u001b[0m \u001b[0mstddev\u001b[0m\u001b[0;34m(\u001b[0m\u001b[0;36m1\u001b[0m\u001b[0;34m/\u001b[0m\u001b[0;36m250\u001b[0m\u001b[0;34m)\u001b[0m\u001b[0;34m,\u001b[0m \u001b[0;34m)\u001b[0m\u001b[0;34m\u001b[0m\u001b[0;34m\u001b[0m\u001b[0m\n\u001b[0m",
      "\u001b[0;31mNameError\u001b[0m: name 'stddev' is not defined"
     ]
    }
   ],
   "source": [
    "n_simulations = n_rows = 10_000\n",
    "n_students = n_cols = 50\n",
    "\n",
    "fails = np.random.normal((1/250), stddev(1/250), )"
   ]
  }
 ],
 "metadata": {
  "kernelspec": {
   "display_name": "Python 3 (ipykernel)",
   "language": "python",
   "name": "python3"
  },
  "language_info": {
   "codemirror_mode": {
    "name": "ipython",
    "version": 3
   },
   "file_extension": ".py",
   "mimetype": "text/x-python",
   "name": "python",
   "nbconvert_exporter": "python",
   "pygments_lexer": "ipython3",
   "version": "3.9.13"
  }
 },
 "nbformat": 4,
 "nbformat_minor": 5
}
