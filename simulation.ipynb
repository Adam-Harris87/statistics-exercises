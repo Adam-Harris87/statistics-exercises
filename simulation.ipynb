{
 "cells": [
  {
   "cell_type": "code",
   "execution_count": 5,
   "id": "7b98ceeb",
   "metadata": {},
   "outputs": [],
   "source": [
    "import numpy as np\n",
    "import pandas as pd"
   ]
  },
  {
   "cell_type": "markdown",
   "id": "039cc196",
   "metadata": {},
   "source": [
    "1. How likely is it that you roll doubles when rolling two dice?"
   ]
  },
  {
   "cell_type": "code",
   "execution_count": 28,
   "id": "b59b081f",
   "metadata": {},
   "outputs": [
    {
     "name": "stdout",
     "output_type": "stream",
     "text": [
      "chance of getting doubles on 2d6 is: 0.1706\n"
     ]
    }
   ],
   "source": [
    "n_simulations = n_rows = 10000\n",
    "n_dice_rolls = n_cols = 2\n",
    "\n",
    "rolls = np.random.choice([1,2,3,4,5,6], n_rows * n_cols).reshape(n_rows, n_cols)\n",
    "\n",
    "doubles = pd.DataFrame(rolls).apply(lambda row: row[0] == row[1], axis=1).mean()\n",
    "print(f'chance of getting doubles on 2d6 is: {doubles}')"
   ]
  },
  {
   "cell_type": "code",
   "execution_count": 306,
   "id": "fe0632b6",
   "metadata": {},
   "outputs": [
    {
     "data": {
      "text/plain": [
       "0.1672"
      ]
     },
     "execution_count": 306,
     "metadata": {},
     "output_type": "execute_result"
    }
   ],
   "source": [
    "outcomes = [1,2,3,4,5,6]\n",
    "simulations = n_rows = 10_000\n",
    "dice_rolls = n_cols = 2\n",
    "\n",
    "rolls = np.random.choice(outcomes, size = (n_rows, n_cols))\n",
    "rolls_df = pd.DataFrame(rolls)\n",
    "(rolls_df[0] == rolls_df[1]).mean()"
   ]
  },
  {
   "cell_type": "markdown",
   "id": "13456fa0",
   "metadata": {},
   "source": [
    "2. If you flip 8 coins, what is the probability of getting exactly 3 heads? What is the probability of getting more than 3 heads?"
   ]
  },
  {
   "cell_type": "code",
   "execution_count": 29,
   "id": "aae7a494",
   "metadata": {},
   "outputs": [
    {
     "name": "stdout",
     "output_type": "stream",
     "text": [
      "chance of getting 3 heads is: 0.2183\n",
      "chance of getting more than 3 heads is: 0.6389\n"
     ]
    }
   ],
   "source": [
    "n_simulations = n_rows = 10_000\n",
    "n_flips = n_cols = 8\n",
    "\n",
    "flips = np.random.choice([0,1], n_rows * n_cols).reshape(n_rows, n_cols)\n",
    "\n",
    "three_heads = pd.DataFrame(flips).apply(lambda row: row.sum() == 3, axis=1).mean()\n",
    "more_than_three_heads = pd.DataFrame(flips).apply(lambda row: row.sum() > 3, axis=1).mean()\n",
    "\n",
    "print(f'chance of getting 3 heads is: {three_heads}')\n",
    "print(f'chance of getting more than 3 heads is: {more_than_three_heads}')"
   ]
  },
  {
   "cell_type": "markdown",
   "id": "e1d49202",
   "metadata": {},
   "source": [
    "3. There are approximitely 3 web development cohorts for every 1 data science cohort at Codeup. Assuming that Codeup randomly selects an alumni to put on a billboard, what are the odds that the two billboards I drive past both have data science students on them?"
   ]
  },
  {
   "cell_type": "code",
   "execution_count": 51,
   "id": "890351e9",
   "metadata": {},
   "outputs": [
    {
     "name": "stdout",
     "output_type": "stream",
     "text": [
      "chance of selecting two data science students is: 0.0614\n"
     ]
    }
   ],
   "source": [
    "n_simulations = n_rows = 10_000\n",
    "n_choices = n_cols = 2\n",
    "\n",
    "selections = np.random.choice(['w','w','w','d'], n_rows * n_cols).reshape(n_rows, n_cols)\n",
    "two_ds = pd.DataFrame(selections).apply(lambda row: row[0] + row[1] == 'dd', axis=1).mean()\n",
    "\n",
    "print(f'chance of selecting two data science students is: {two_ds}')"
   ]
  },
  {
   "cell_type": "markdown",
   "id": "bc011d88",
   "metadata": {},
   "source": [
    "4. Codeup students buy, on average, 3 poptart packages with a standard deviation of 1.5 a day from the snack vending machine. If on monday the machine is restocked with 17 poptart packages, how likely is it that I will be able to buy some poptarts on Friday afternoon? (Remember, if you have mean and standard deviation, use the np.random.normal) You'll need to make a judgement call on how to handle some of your values"
   ]
  },
  {
   "cell_type": "code",
   "execution_count": 301,
   "id": "26922261",
   "metadata": {},
   "outputs": [
    {
     "name": "stdout",
     "output_type": "stream",
     "text": [
      "chance that you will be able to buy poptarts on friday afternoon is: 0.7195\n"
     ]
    }
   ],
   "source": [
    "n_simulations = n_rows = 10_000\n",
    "n_days = n_cols = 5\n",
    "\n",
    "poptarts_day = np.random.normal(3, 1.5, n_rows * n_cols).reshape(n_rows, n_cols)\n",
    "poptarts_day[poptarts_day < 0] = 0\n",
    "friday_poptarts = pd.DataFrame(poptarts_day).apply(lambda row: row.sum() >= 17, axis=1)\n",
    "print(f'chance that you will be able to buy poptarts \\\n",
    "on friday afternoon is: {1 - friday_poptarts.mean()}')"
   ]
  },
  {
   "cell_type": "markdown",
   "id": "49e9a802",
   "metadata": {},
   "source": [
    "5. Compare Heights\n",
    "\n",
    "- Men have an average height of 178 cm and standard deviation of 8cm.\n",
    "- Women have a mean of 170, sd = 6cm.\n",
    "- Since you have means and standard deviations, you can use np.random.normal to generate observations.\n",
    "- If a man and woman are chosen at random, what is the likelihood the woman is taller than the man?"
   ]
  },
  {
   "cell_type": "code",
   "execution_count": 124,
   "id": "521b58a4",
   "metadata": {},
   "outputs": [
    {
     "name": "stdout",
     "output_type": "stream",
     "text": [
      "chance that a woman is taller than a man is: 0.2049\n"
     ]
    }
   ],
   "source": [
    "n_simulations = n_rows = 10_000\n",
    "n_cols = 1\n",
    "\n",
    "men = np.random.normal(178, 8, n_rows * n_cols).reshape(n_rows, n_cols)\n",
    "women = np.random.normal(170, 6, n_rows * n_cols).reshape(n_rows, n_cols)\n",
    "\n",
    "men_minus_women = pd.DataFrame(men - women).apply(\n",
    "    lambda row: row < 0, axis=1).mean()[0]\n",
    "print(f'chance that a woman is taller than a man is: {men_minus_women}')"
   ]
  },
  {
   "cell_type": "markdown",
   "id": "adc135b3",
   "metadata": {},
   "source": [
    "6. When installing anaconda on a student's computer, there's a 1 in 250 chance that the download is corrupted and the installation fails. \n",
    "- What are the odds that after having 50 students download anaconda, no one has an installation issue? \n",
    "- 100 students?\n",
    "- What is the probability that we observe an installation issue within the first 150 students that download anaconda?\n",
    "- How likely is it that 450 students all download anaconda without an issue?"
   ]
  },
  {
   "cell_type": "code",
   "execution_count": 307,
   "id": "26b2efd1",
   "metadata": {},
   "outputs": [
    {
     "name": "stdout",
     "output_type": "stream",
     "text": [
      "theoretical chance of having 50 students without an issue is: 0.8184024506760997\n",
      "chance of observing no installation issues within the first 50 students is: 0.8163\n"
     ]
    }
   ],
   "source": [
    "chance = (249/250) ** 50\n",
    "print(f'theoretical chance of having 50 students without an issue is: {chance}')\n",
    "\n",
    "n_simulations = n_rows = 10_000\n",
    "n_students = n_cols = 50\n",
    "\n",
    "rands = np.random.randint(0,250, n_rows * n_cols).reshape(n_rows, n_cols)\n",
    "fails = pd.DataFrame(rands).apply(lambda row: 0 in row.values, axis=1).mean()\n",
    "\n",
    "print(f'chance of observing no installation issues \\\n",
    "within the first 50 students is: {1-fails}')"
   ]
  },
  {
   "cell_type": "code",
   "execution_count": 308,
   "id": "3a4d2553",
   "metadata": {},
   "outputs": [
    {
     "name": "stdout",
     "output_type": "stream",
     "text": [
      "theoretical chance of having 100 students without an issue is: 0.6697825712726458\n",
      "chance of observing no installation issues within the first 100 students is: 0.6722\n"
     ]
    }
   ],
   "source": [
    "chance = (249/250) ** 100\n",
    "print(f'theoretical chance of having 100 students without an issue is: {chance}')\n",
    "\n",
    "n_simulations = n_rows = 10_000\n",
    "n_students = n_cols = 100\n",
    "\n",
    "rands = np.random.randint(0,250, n_rows * n_cols).reshape(n_rows, n_cols)\n",
    "fails = pd.DataFrame(rands).apply(lambda row: 0 in row.values, axis=1).mean()\n",
    "\n",
    "print(f'chance of observing no installation issues \\\n",
    "within the first 100 students is: {1-fails}')"
   ]
  },
  {
   "cell_type": "code",
   "execution_count": 87,
   "id": "8c7d050a",
   "metadata": {},
   "outputs": [
    {
     "name": "stdout",
     "output_type": "stream",
     "text": [
      "theoretical chance of having 150 students without an issue is: 0.5481516977496729\n"
     ]
    }
   ],
   "source": [
    "chance = (249/250) ** 150\n",
    "print(f'theoretical chance of having 150 students without an issue is: {chance}')"
   ]
  },
  {
   "cell_type": "code",
   "execution_count": 82,
   "id": "787c79f3",
   "metadata": {},
   "outputs": [
    {
     "name": "stdout",
     "output_type": "stream",
     "text": [
      "chance of observing an installation issue within the first 150 students is: 0.4492\n"
     ]
    }
   ],
   "source": [
    "# What is the probability that we observe an installation issue within \n",
    "# the first 150 students that download anaconda?\n",
    "n_simulations = n_rows = 10_000\n",
    "n_students = n_cols = 150\n",
    "\n",
    "rands = np.random.randint(0,250, n_rows * n_cols).reshape(n_rows, n_cols)\n",
    "fails = pd.DataFrame(rands).apply(lambda row: 0 in row.values, axis=1).mean()\n",
    "\n",
    "print(f'chance of observing an installation issue within the first 150 students is: {fails}')"
   ]
  },
  {
   "cell_type": "code",
   "execution_count": 285,
   "id": "b6f0116a",
   "metadata": {},
   "outputs": [
    {
     "name": "stdout",
     "output_type": "stream",
     "text": [
      "theoretical chance of having 450 students without an issue is: 0.1647032961586129\n",
      "observed chance of not having any installation issue within the first 450 students is: 0.16749999999999998\n"
     ]
    }
   ],
   "source": [
    "chance = (249/250) ** 450\n",
    "print(f'theoretical chance of having 450 students without an issue is: {chance}')\n",
    "\n",
    "# How likely is it that 450 students all download anaconda without an issue?\n",
    "n_simulations = n_rows = 10_000\n",
    "n_students = n_cols = 450\n",
    "\n",
    "rands = np.random.randint(0,250, n_rows * n_cols).reshape(n_rows, n_cols)\n",
    "fails = pd.DataFrame(rands).apply(lambda row: 0 in row.values, axis=1).mean()\n",
    "\n",
    "print(f'observed chance of not having any installation issue within \\\n",
    "the first 450 students is: {1-fails}')"
   ]
  },
  {
   "cell_type": "markdown",
   "id": "aea306c9",
   "metadata": {},
   "source": [
    "7. There's a 70% chance on any given day that there will be at least one food truck at Travis Park. However, you haven't seen a food truck there in 3 days. \n",
    "- How unlikely is this?\n",
    "- How likely is it that a food truck will show up sometime this week?"
   ]
  },
  {
   "cell_type": "code",
   "execution_count": 124,
   "id": "8ea3d52f",
   "metadata": {},
   "outputs": [
    {
     "name": "stdout",
     "output_type": "stream",
     "text": [
      "theoretical chance there will be no food trucks in 3 days is: 0.027000000000000014\n",
      "chance of observing no food trucks in 3 days is: 0.0284\n"
     ]
    }
   ],
   "source": [
    "chance = (1 - 0.7) ** 3\n",
    "print(f'theoretical chance there will be no food trucks in 3 days is: {chance}')\n",
    "\n",
    "n_simulations = n_rows = 10_000\n",
    "n_days = n_cols = 3\n",
    "prob_success = 0.7\n",
    "\n",
    "days = np.random.random(n_rows * n_cols).reshape(n_rows, n_cols)\n",
    "truck = pd.DataFrame(days).apply(lambda x: x <= prob_success, axis=1)\n",
    "no_truck_in_3_days = pd.DataFrame(truck).apply(\n",
    "    lambda row: sum(row) == 0, axis=1).mean()\n",
    "print(f'chance of observing no food trucks in 3 days is: {no_truck_in_3_days}')"
   ]
  },
  {
   "cell_type": "code",
   "execution_count": 125,
   "id": "3cddff43",
   "metadata": {},
   "outputs": [
    {
     "name": "stdout",
     "output_type": "stream",
     "text": [
      "theoretical chance there will be a food truck sometime in 7 days is: 0.9997813\n",
      "chance of observing a food truck in 7 days is: 0.9997\n"
     ]
    }
   ],
   "source": [
    "# How likely is it that a food truck will show up sometime this week \n",
    "# theoretical chance is 1 - chance no trucks show up in 7 days\n",
    "theoretical = (1 - (0.3 ** 7))\n",
    "print(f'theoretical chance there will be a food \\\n",
    "truck sometime in 7 days is: {theoretical}')\n",
    "\n",
    "n_simulations = n_rows = 10_000\n",
    "n_days = n_cols = 7\n",
    "prob_success = 0.7\n",
    "\n",
    "days = np.random.random(n_rows * n_cols).reshape(n_rows, n_cols)\n",
    "truck = pd.DataFrame(days).apply(lambda x: x <= prob_success, axis=1)\n",
    "food_truck_in_7_days = 1 - pd.DataFrame(truck).apply(\n",
    "    lambda row: sum(row) == 0, axis=1).mean()\n",
    "print(f'chance of observing a food truck in 7 days is: {food_truck_in_7_days}')"
   ]
  },
  {
   "cell_type": "markdown",
   "id": "1b5874ed",
   "metadata": {},
   "source": [
    "8. If 23 people are in the same room, what are the odds that two of them share a birthday? \n",
    "- What if it's 20 people? \n",
    "- 40?"
   ]
  },
  {
   "cell_type": "code",
   "execution_count": 276,
   "id": "ffae5652",
   "metadata": {},
   "outputs": [
    {
     "name": "stdout",
     "output_type": "stream",
     "text": [
      "observed chance that 2 people in a room of 23 will share a birthday is: 0.5063\n"
     ]
    }
   ],
   "source": [
    "#If 23 people are in the same room, what are the odds that two of them share a birthday?\n",
    "\n",
    "n_simulations = n_rows = 10_000\n",
    "n_people = n_cols = 23\n",
    "\n",
    "b_days = np.random.randint(1,366, n_rows * n_cols).reshape(n_rows, n_cols)\n",
    "days_df = pd.DataFrame(b_days)\n",
    "chance_of_no_matches = days_df.apply(lambda row: \n",
    "                                  len(row) == len(row.unique()), axis=1).mean()\n",
    "print(f'observed chance that 2 people in a room of 23 will \\\n",
    "share a birthday is: {1 - chance_of_no_matches}')"
   ]
  },
  {
   "cell_type": "code",
   "execution_count": 282,
   "id": "0c905fc5",
   "metadata": {},
   "outputs": [
    {
     "name": "stdout",
     "output_type": "stream",
     "text": [
      "observed chance that 2 people in a room of 20 will share a birthday is: 0.4105\n"
     ]
    }
   ],
   "source": [
    "# what if it's 20 people\n",
    "n_simulations = n_rows = 10_000\n",
    "n_people = n_cols = 20\n",
    "\n",
    "b_days = np.random.randint(1,366, n_rows * n_cols).reshape(n_rows, n_cols)\n",
    "days_df = pd.DataFrame(b_days)\n",
    "chance_of_no_matches = days_df.apply(lambda row: \n",
    "                                  len(row) == len(row.unique()), axis=1).mean()\n",
    "print(f'observed chance that 2 people in a room of 20 will \\\n",
    "share a birthday is: {1 - chance_of_no_matches}')"
   ]
  },
  {
   "cell_type": "code",
   "execution_count": 284,
   "id": "82c56ea6",
   "metadata": {},
   "outputs": [
    {
     "name": "stdout",
     "output_type": "stream",
     "text": [
      "observed chance that 2 people in a room of 40 will share a birthday is: 0.887\n"
     ]
    }
   ],
   "source": [
    "# 40 people\n",
    "# what if it's 20 people\n",
    "n_simulations = n_rows = 10_000\n",
    "n_people = n_cols = 40\n",
    "\n",
    "b_days = np.random.randint(1,366, n_rows * n_cols).reshape(n_rows, n_cols)\n",
    "days_df = pd.DataFrame(b_days)\n",
    "chance_of_no_matches = days_df.apply(lambda row: \n",
    "                                  len(row) == len(row.unique()), axis=1).mean()\n",
    "print(f'observed chance that 2 people in a room of 40 will \\\n",
    "share a birthday is: {1 - chance_of_no_matches}')"
   ]
  }
 ],
 "metadata": {
  "kernelspec": {
   "display_name": "Python 3 (ipykernel)",
   "language": "python",
   "name": "python3"
  },
  "language_info": {
   "codemirror_mode": {
    "name": "ipython",
    "version": 3
   },
   "file_extension": ".py",
   "mimetype": "text/x-python",
   "name": "python",
   "nbconvert_exporter": "python",
   "pygments_lexer": "ipython3",
   "version": "3.9.13"
  }
 },
 "nbformat": 4,
 "nbformat_minor": 5
}
